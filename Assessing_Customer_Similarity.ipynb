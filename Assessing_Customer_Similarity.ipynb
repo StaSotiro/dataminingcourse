{
 "metadata": {
  "language_info": {
   "codemirror_mode": {
    "name": "ipython",
    "version": 3
   },
   "file_extension": ".py",
   "mimetype": "text/x-python",
   "name": "python",
   "nbconvert_exporter": "python",
   "pygments_lexer": "ipython3",
   "version": "3.7.4"
  },
  "orig_nbformat": 2,
  "kernelspec": {
   "name": "python374jvsc74a57bd0023866bcb11fbd497308e527800e6910e0a2b0ed4577baff85e6b7650bb798d8",
   "display_name": "Python 3.7.4 64-bit ('base': conda)"
  }
 },
 "nbformat": 4,
 "nbformat_minor": 2,
 "cells": [
  {
   "cell_type": "code",
   "execution_count": 63,
   "metadata": {},
   "outputs": [],
   "source": [
    "import pandas as pd\n",
    "import itertools\n",
    "import numpy as np    \n",
    "from scipy.spatial.distance import squareform"
   ]
  },
  {
   "source": [
    "### Load and clean working data"
   ],
   "cell_type": "markdown",
   "metadata": {}
  },
  {
   "cell_type": "code",
   "execution_count": 3,
   "metadata": {},
   "outputs": [
    {
     "output_type": "stream",
     "name": "stdout",
     "text": [
      "(10000, 10)\n"
     ]
    },
    {
     "output_type": "execute_result",
     "data": {
      "text/plain": [
       "      Customer_ID Age     Sex Marital_Status  Education Income  \\\n",
       "9927         9928  21    male         single  secondary  21000   \n",
       "7664         7665  69    male        married    primary  23000   \n",
       "939           940  31  female        married  secondary  48000   \n",
       "5804         5805  65  female        married  secondary  38000   \n",
       "947           948  51  female         single   tertiary  19000   \n",
       "\n",
       "     Customer_Rating  Persons_in_Household    Occupation  \\\n",
       "9927            good                     1  entrepreneur   \n",
       "7664       excellent                     3       retired   \n",
       "939        very_good                     5     housemaid   \n",
       "5804            good                     3       retired   \n",
       "947             fair                     1     housemaid   \n",
       "\n",
       "                                              Groceries  \n",
       "9927            hygiene articles,house keeping products  \n",
       "7664                    dog food,pet care,shopping bags  \n",
       "939                         sparkling wine,dish cleaner  \n",
       "5804  sausage,beef,citrus fruit,tropical fruit,berri...  \n",
       "947   pork,tropical fruit,grapes,hard cheese,soda,na...  "
      ],
      "text/html": "<div>\n<style scoped>\n    .dataframe tbody tr th:only-of-type {\n        vertical-align: middle;\n    }\n\n    .dataframe tbody tr th {\n        vertical-align: top;\n    }\n\n    .dataframe thead th {\n        text-align: right;\n    }\n</style>\n<table border=\"1\" class=\"dataframe\">\n  <thead>\n    <tr style=\"text-align: right;\">\n      <th></th>\n      <th>Customer_ID</th>\n      <th>Age</th>\n      <th>Sex</th>\n      <th>Marital_Status</th>\n      <th>Education</th>\n      <th>Income</th>\n      <th>Customer_Rating</th>\n      <th>Persons_in_Household</th>\n      <th>Occupation</th>\n      <th>Groceries</th>\n    </tr>\n  </thead>\n  <tbody>\n    <tr>\n      <th>9927</th>\n      <td>9928</td>\n      <td>21</td>\n      <td>male</td>\n      <td>single</td>\n      <td>secondary</td>\n      <td>21000</td>\n      <td>good</td>\n      <td>1</td>\n      <td>entrepreneur</td>\n      <td>hygiene articles,house keeping products</td>\n    </tr>\n    <tr>\n      <th>7664</th>\n      <td>7665</td>\n      <td>69</td>\n      <td>male</td>\n      <td>married</td>\n      <td>primary</td>\n      <td>23000</td>\n      <td>excellent</td>\n      <td>3</td>\n      <td>retired</td>\n      <td>dog food,pet care,shopping bags</td>\n    </tr>\n    <tr>\n      <th>939</th>\n      <td>940</td>\n      <td>31</td>\n      <td>female</td>\n      <td>married</td>\n      <td>secondary</td>\n      <td>48000</td>\n      <td>very_good</td>\n      <td>5</td>\n      <td>housemaid</td>\n      <td>sparkling wine,dish cleaner</td>\n    </tr>\n    <tr>\n      <th>5804</th>\n      <td>5805</td>\n      <td>65</td>\n      <td>female</td>\n      <td>married</td>\n      <td>secondary</td>\n      <td>38000</td>\n      <td>good</td>\n      <td>3</td>\n      <td>retired</td>\n      <td>sausage,beef,citrus fruit,tropical fruit,berri...</td>\n    </tr>\n    <tr>\n      <th>947</th>\n      <td>948</td>\n      <td>51</td>\n      <td>female</td>\n      <td>single</td>\n      <td>tertiary</td>\n      <td>19000</td>\n      <td>fair</td>\n      <td>1</td>\n      <td>housemaid</td>\n      <td>pork,tropical fruit,grapes,hard cheese,soda,na...</td>\n    </tr>\n  </tbody>\n</table>\n</div>"
     },
     "metadata": {},
     "execution_count": 3
    }
   ],
   "source": [
    "customerData = pd.read_csv('./groceries.csv', sep=\";\")\n",
    "print(customerData.shape)\n",
    "customerData.sample(5)"
   ]
  },
  {
   "cell_type": "code",
   "execution_count": 8,
   "metadata": {},
   "outputs": [
    {
     "output_type": "execute_result",
     "data": {
      "text/plain": [
       "Customer_ID             0\n",
       "Age                     0\n",
       "Sex                     0\n",
       "Marital_Status          0\n",
       "Education               0\n",
       "Income                  0\n",
       "Customer_Rating         0\n",
       "Persons_in_Household    0\n",
       "Occupation              0\n",
       "Groceries               0\n",
       "dtype: int64"
      ]
     },
     "metadata": {},
     "execution_count": 8
    }
   ],
   "source": [
    "customerData.isnull().sum()"
   ]
  },
  {
   "cell_type": "code",
   "execution_count": 14,
   "metadata": {},
   "outputs": [
    {
     "output_type": "stream",
     "name": "stdout",
     "text": [
      "Customer_ID              int64\nAge                     object\nSex                     object\nMarital_Status          object\nEducation               object\nIncome                  object\nCustomer_Rating         object\nPersons_in_Household     int64\nOccupation              object\nGroceries               object\ndtype: object\n"
     ]
    },
    {
     "output_type": "execute_result",
     "data": {
      "text/plain": [
       "Persons_in_Household    1\n",
       "Income                   \n",
       "Age                      \n",
       "dtype: object"
      ]
     },
     "metadata": {},
     "execution_count": 14
    }
   ],
   "source": [
    "print(customerData.dtypes)\n",
    "customerData[[\"Persons_in_Household\",\"Income\",\"Age\"]].apply(min)"
   ]
  },
  {
   "cell_type": "code",
   "execution_count": 171,
   "metadata": {},
   "outputs": [],
   "source": [
    "cData = customerData.copy()"
   ]
  },
  {
   "cell_type": "code",
   "execution_count": 172,
   "metadata": {},
   "outputs": [],
   "source": [
    "cData[[\"Income\",\"Age\"]] = cData[[\"Income\",\"Age\"]].apply(pd.to_numeric, errors = \"coerce\")"
   ]
  },
  {
   "cell_type": "code",
   "execution_count": 173,
   "metadata": {},
   "outputs": [
    {
     "output_type": "execute_result",
     "data": {
      "text/plain": [
       "Customer_ID               0\n",
       "Age                     473\n",
       "Sex                       0\n",
       "Marital_Status            0\n",
       "Education                 0\n",
       "Income                  477\n",
       "Customer_Rating           0\n",
       "Persons_in_Household      0\n",
       "Occupation                0\n",
       "Groceries                 0\n",
       "dtype: int64"
      ]
     },
     "metadata": {},
     "execution_count": 173
    }
   ],
   "source": [
    "cData.isna().sum()"
   ]
  },
  {
   "cell_type": "code",
   "execution_count": 174,
   "metadata": {},
   "outputs": [
    {
     "output_type": "execute_result",
     "data": {
      "text/plain": [
       "Customer_ID             0\n",
       "Age                     0\n",
       "Sex                     0\n",
       "Marital_Status          0\n",
       "Education               0\n",
       "Income                  0\n",
       "Customer_Rating         0\n",
       "Persons_in_Household    0\n",
       "Occupation              0\n",
       "Groceries               0\n",
       "dtype: int64"
      ]
     },
     "metadata": {},
     "execution_count": 174
    }
   ],
   "source": [
    "cData[[\"Income\",\"Age\"]] = cData[[\"Income\",\"Age\"]].fillna(cData[[\"Income\",\"Age\"]].mean())\n",
    "cData.isna().sum()"
   ]
  },
  {
   "cell_type": "code",
   "execution_count": 175,
   "metadata": {},
   "outputs": [],
   "source": [
    "# Set the new index to be customer ID\n",
    "# cData.set_index(\"Customer_ID\", inplace=True)\n",
    "# cData.sample(5)"
   ]
  },
  {
   "cell_type": "code",
   "execution_count": 176,
   "metadata": {},
   "outputs": [
    {
     "output_type": "stream",
     "name": "stdout",
     "text": [
      "['married' 'single' 'divorced']\n['primary' 'secondary' 'tertiary']\n['very_good' 'good' 'fair' 'excellent' 'poor']\n['retired' 'housemaid' 'blue-collar' 'unemployed' 'entrepreneur'\n 'self-employed' 'management' 'services' 'unknown' 'technician']\n"
     ]
    }
   ],
   "source": [
    "print(cData.Marital_Status.unique())\n",
    "print(cData.Education.unique())\n",
    "print(cData.Customer_Rating.unique())\n",
    "print(cData.Occupation.unique())"
   ]
  },
  {
   "cell_type": "code",
   "execution_count": 177,
   "metadata": {},
   "outputs": [],
   "source": [
    "# Factorize ordinal columns\n",
    "eduMapper = {\n",
    "    \"primary\":0,\n",
    "    \"secondary\":1,\n",
    "    \"tertiary\":2\n",
    "}\n",
    "rateMapper = {\n",
    "    \"poor\":0,\n",
    "    \"fair\":1,\n",
    "    \"good\":2,\n",
    "    \"very_good\":3,\n",
    "    \"excellent\":4\n",
    "}"
   ]
  },
  {
   "cell_type": "code",
   "execution_count": 178,
   "metadata": {},
   "outputs": [],
   "source": [
    "cData[\"Education\"] = cData[\"Education\"].replace(eduMapper)\n",
    "cData[\"Customer_Rating\"] = cData[\"Customer_Rating\"].replace(rateMapper)"
   ]
  },
  {
   "source": [
    "### Compute dissimilarity\n",
    "#### Jaccard similarity is used between sets <br> Calc. the avg to derive the dissimilarity for all attributes\n"
   ],
   "cell_type": "markdown",
   "metadata": {}
  },
  {
   "cell_type": "code",
   "execution_count": 179,
   "metadata": {},
   "outputs": [
    {
     "output_type": "execute_result",
     "data": {
      "text/plain": [
       "      Customer_ID        Age     Sex Marital_Status  Education   Income  \\\n",
       "9946         9947  34.000000  female        married          1  15000.0   \n",
       "1736         1737  53.000000    male        married          1  33000.0   \n",
       "4283         4284  53.381757  female         single          1  41000.0   \n",
       "4661         4662  43.000000  female        married          1  38000.0   \n",
       "9820         9821  39.000000  female        married          0  43000.0   \n",
       "\n",
       "      Customer_Rating  Persons_in_Household     Occupation  \\\n",
       "9946                2                     3    blue-collar   \n",
       "1736                0                     4   entrepreneur   \n",
       "4283                4                     1    blue-collar   \n",
       "4661                1                     3  self-employed   \n",
       "9820                2                     4   entrepreneur   \n",
       "\n",
       "                                              Groceries  \n",
       "9946                                               soda  \n",
       "1736  frankfurter,white bread,pastry,dog food,soda,s...  \n",
       "4283                                        frankfurter  \n",
       "4661     UHT-milk,condensed milk,coffee,cling film/bags  \n",
       "9820  beef,citrus fruit,cream cheese,frozen fish,flo...  "
      ],
      "text/html": "<div>\n<style scoped>\n    .dataframe tbody tr th:only-of-type {\n        vertical-align: middle;\n    }\n\n    .dataframe tbody tr th {\n        vertical-align: top;\n    }\n\n    .dataframe thead th {\n        text-align: right;\n    }\n</style>\n<table border=\"1\" class=\"dataframe\">\n  <thead>\n    <tr style=\"text-align: right;\">\n      <th></th>\n      <th>Customer_ID</th>\n      <th>Age</th>\n      <th>Sex</th>\n      <th>Marital_Status</th>\n      <th>Education</th>\n      <th>Income</th>\n      <th>Customer_Rating</th>\n      <th>Persons_in_Household</th>\n      <th>Occupation</th>\n      <th>Groceries</th>\n    </tr>\n  </thead>\n  <tbody>\n    <tr>\n      <th>9946</th>\n      <td>9947</td>\n      <td>34.000000</td>\n      <td>female</td>\n      <td>married</td>\n      <td>1</td>\n      <td>15000.0</td>\n      <td>2</td>\n      <td>3</td>\n      <td>blue-collar</td>\n      <td>soda</td>\n    </tr>\n    <tr>\n      <th>1736</th>\n      <td>1737</td>\n      <td>53.000000</td>\n      <td>male</td>\n      <td>married</td>\n      <td>1</td>\n      <td>33000.0</td>\n      <td>0</td>\n      <td>4</td>\n      <td>entrepreneur</td>\n      <td>frankfurter,white bread,pastry,dog food,soda,s...</td>\n    </tr>\n    <tr>\n      <th>4283</th>\n      <td>4284</td>\n      <td>53.381757</td>\n      <td>female</td>\n      <td>single</td>\n      <td>1</td>\n      <td>41000.0</td>\n      <td>4</td>\n      <td>1</td>\n      <td>blue-collar</td>\n      <td>frankfurter</td>\n    </tr>\n    <tr>\n      <th>4661</th>\n      <td>4662</td>\n      <td>43.000000</td>\n      <td>female</td>\n      <td>married</td>\n      <td>1</td>\n      <td>38000.0</td>\n      <td>1</td>\n      <td>3</td>\n      <td>self-employed</td>\n      <td>UHT-milk,condensed milk,coffee,cling film/bags</td>\n    </tr>\n    <tr>\n      <th>9820</th>\n      <td>9821</td>\n      <td>39.000000</td>\n      <td>female</td>\n      <td>married</td>\n      <td>0</td>\n      <td>43000.0</td>\n      <td>2</td>\n      <td>4</td>\n      <td>entrepreneur</td>\n      <td>beef,citrus fruit,cream cheese,frozen fish,flo...</td>\n    </tr>\n  </tbody>\n</table>\n</div>"
     },
     "metadata": {},
     "execution_count": 179
    }
   ],
   "source": [
    "cData.sample(5)"
   ]
  },
  {
   "cell_type": "code",
   "execution_count": 180,
   "metadata": {},
   "outputs": [],
   "source": [
    "rateMax = max(cData[\"Customer_Rating\"])\n",
    "rateMin = min(cData[\"Customer_Rating\"])\n",
    "eduMax = max(cData[\"Education\"])\n",
    "eduMin = min(cData[\"Education\"])\n",
    "ageMax = max(cData[\"Age\"])\n",
    "ageMin = min(cData[\"Age\"])\n",
    "incMax = max(cData[\"Income\"])\n",
    "incMin = min(cData[\"Income\"])"
   ]
  },
  {
   "cell_type": "code",
   "execution_count": 181,
   "metadata": {},
   "outputs": [],
   "source": [
    "def jaccard_sim(set1, set2):\n",
    "    intersection = len(list(set(set1).intersection(set2)))\n",
    "    union = (len(set1) + len(set2)) - intersection\n",
    "    return float(intersection) / union"
   ]
  },
  {
   "cell_type": "code",
   "execution_count": 182,
   "metadata": {},
   "outputs": [],
   "source": [
    "def calcDis(cust1, cust2): \n",
    "    # For categoricals\n",
    "    sexDis = 0\n",
    "    marDis = 0\n",
    "    occDis = 0\n",
    "    if(cust1[\"Sex\"] != cust2[\"Sex\"]):\n",
    "        sexDis = 1\n",
    "    if(cust1[\"Marital_Status\"] != cust2[\"Marital_Status\"]):\n",
    "        marDis = 1\n",
    "    if(cust1[\"Occupation\"] != cust2[\"Occupation\"]):\n",
    "        occDis = 1\n",
    "    \n",
    "    # For ordinal vars\n",
    "    rateDis = abs(cust1[\"Customer_Rating\"] - cust2[\"Customer_Rating\"]) / (rateMax - rateMin)\n",
    "    eduDis = abs(cust1[\"Education\"] - cust2[\"Education\"]) / (eduMax - eduMin)\n",
    "\n",
    "    # For numerical vars\n",
    "    ageDis = abs(cust1[\"Age\"] - cust2[\"Age\"]) / (ageMax - ageMin)\n",
    "    incDis = abs(cust1[\"Income\"] - cust2[\"Income\"])/ (incMax - incMin)\n",
    "\n",
    "    # For set dist\n",
    "    grocDis = 1 - jaccard_sim(cust1[\"Groceries\"].split(\",\"), cust2[\"Groceries\"].split(\",\"))\n",
    "\n",
    "    return ((sexDis + marDis + occDis + rateDis + eduDis + ageDis + incDis + grocDis)/8)\n"
   ]
  },
  {
   "cell_type": "code",
   "execution_count": 183,
   "metadata": {},
   "outputs": [
    {
     "output_type": "execute_result",
     "data": {
      "text/plain": [
       "   Customer_ID   Age     Sex Marital_Status  Education   Income  \\\n",
       "0            1  75.0    male        married          0  20000.0   \n",
       "1            2  61.0  female         single          1  28000.0   \n",
       "2            3  32.0    male         single          1  34000.0   \n",
       "\n",
       "   Customer_Rating  Persons_in_Household   Occupation  \\\n",
       "0                3                     3      retired   \n",
       "1                2                     1    housemaid   \n",
       "2                3                     1  blue-collar   \n",
       "\n",
       "                                           Groceries  \n",
       "0  citrus fruit,semi-finished bread,margarine,rea...  \n",
       "1                       tropical fruit,yogurt,coffee  \n",
       "2                                         whole milk  "
      ],
      "text/html": "<div>\n<style scoped>\n    .dataframe tbody tr th:only-of-type {\n        vertical-align: middle;\n    }\n\n    .dataframe tbody tr th {\n        vertical-align: top;\n    }\n\n    .dataframe thead th {\n        text-align: right;\n    }\n</style>\n<table border=\"1\" class=\"dataframe\">\n  <thead>\n    <tr style=\"text-align: right;\">\n      <th></th>\n      <th>Customer_ID</th>\n      <th>Age</th>\n      <th>Sex</th>\n      <th>Marital_Status</th>\n      <th>Education</th>\n      <th>Income</th>\n      <th>Customer_Rating</th>\n      <th>Persons_in_Household</th>\n      <th>Occupation</th>\n      <th>Groceries</th>\n    </tr>\n  </thead>\n  <tbody>\n    <tr>\n      <th>0</th>\n      <td>1</td>\n      <td>75.0</td>\n      <td>male</td>\n      <td>married</td>\n      <td>0</td>\n      <td>20000.0</td>\n      <td>3</td>\n      <td>3</td>\n      <td>retired</td>\n      <td>citrus fruit,semi-finished bread,margarine,rea...</td>\n    </tr>\n    <tr>\n      <th>1</th>\n      <td>2</td>\n      <td>61.0</td>\n      <td>female</td>\n      <td>single</td>\n      <td>1</td>\n      <td>28000.0</td>\n      <td>2</td>\n      <td>1</td>\n      <td>housemaid</td>\n      <td>tropical fruit,yogurt,coffee</td>\n    </tr>\n    <tr>\n      <th>2</th>\n      <td>3</td>\n      <td>32.0</td>\n      <td>male</td>\n      <td>single</td>\n      <td>1</td>\n      <td>34000.0</td>\n      <td>3</td>\n      <td>1</td>\n      <td>blue-collar</td>\n      <td>whole milk</td>\n    </tr>\n  </tbody>\n</table>\n</div>"
     },
     "metadata": {},
     "execution_count": 183
    }
   ],
   "source": [
    "dummyStuff = cData.iloc[0:3]\n",
    "dummyStuff"
   ]
  },
  {
   "cell_type": "code",
   "execution_count": 202,
   "metadata": {},
   "outputs": [],
   "source": [
    "def calcForDf(df, dfToCompare=None):\n",
    "    result=pd.DataFrame()\n",
    "    runDataframe = dfToCompare\n",
    "    if dfToCompare is None:\n",
    "        runDataframe = df\n",
    "    for i in range(0,len(runDataframe)):\n",
    "        for j in range(0, len(df)):\n",
    "            result.loc[i,j] = calcDis(runDataframe.iloc[i],df.iloc[j])\n",
    "    return result"
   ]
  },
  {
   "cell_type": "code",
   "execution_count": 261,
   "metadata": {},
   "outputs": [],
   "source": [
    "# calcForDf(dummyStuff)\n",
    "# # Takes too long\n",
    "# disMatrix = calcForDf(cData)"
   ]
  },
  {
   "source": [
    "### Search for the 10 NN of Customers w/ IDs 73, 563, 1603, 2200, 3703, 4263, 5300, 6129, 7800, 8555"
   ],
   "cell_type": "markdown",
   "metadata": {}
  },
  {
   "cell_type": "code",
   "execution_count": 277,
   "metadata": {},
   "outputs": [],
   "source": [
    "def calcSimForOne(id, df, trim):\n",
    "    cust = cData.loc[cData[\"Customer_ID\"]==id].squeeze()\n",
    "    result = []\n",
    "    runDf = df.loc[df[\"Customer_ID\"]!=cust[\"Customer_ID\"]]\n",
    "    for i in range(0, len(runDf)):\n",
    "        compCust = runDf.iloc[i]\n",
    "        result.append([compCust[\"Customer_ID\"], 1-calcDis(cust,compCust)])\n",
    "\n",
    "    # Sort the results by desc. similarity\n",
    "    sortedResult = sorted(result, key=lambda x: x[1], reverse=True)\n",
    "    if trim: \n",
    "        return sortedResult[0:trim]\n",
    "    return sortedResult\n"
   ]
  },
  {
   "cell_type": "code",
   "execution_count": 273,
   "metadata": {},
   "outputs": [
    {
     "output_type": "execute_result",
     "data": {
      "text/plain": [
       "[1, 2]"
      ]
     },
     "metadata": {},
     "execution_count": 273
    }
   ],
   "source": []
  },
  {
   "cell_type": "code",
   "execution_count": 189,
   "metadata": {},
   "outputs": [
    {
     "output_type": "execute_result",
     "data": {
      "text/plain": [
       "      Customer_ID   Age     Sex Marital_Status  Education   Income  \\\n",
       "72             73  78.0  female       divorced          2  32000.0   \n",
       "562           563  22.0  female        married          2  38000.0   \n",
       "1602         1603  24.0    male         single          0  40000.0   \n",
       "2199         2200  24.0    male       divorced          0  32000.0   \n",
       "3702         3703  70.0  female         single          1  33000.0   \n",
       "\n",
       "      Customer_Rating  Persons_in_Household     Occupation  \\\n",
       "72                  3                     2        retired   \n",
       "562                 2                     2      housemaid   \n",
       "1602                1                     2  self-employed   \n",
       "2199                1                     1        unknown   \n",
       "3702                4                     2        retired   \n",
       "\n",
       "                                              Groceries  \n",
       "72    frankfurter,citrus fruit,whole milk,domestic e...  \n",
       "562                                          whole milk  \n",
       "1602            other vegetables,rolls/buns,canned fish  \n",
       "2199                                     rolls/buns,tea  \n",
       "3702  citrus fruit,frozen vegetables,domestic eggs,b...  "
      ],
      "text/html": "<div>\n<style scoped>\n    .dataframe tbody tr th:only-of-type {\n        vertical-align: middle;\n    }\n\n    .dataframe tbody tr th {\n        vertical-align: top;\n    }\n\n    .dataframe thead th {\n        text-align: right;\n    }\n</style>\n<table border=\"1\" class=\"dataframe\">\n  <thead>\n    <tr style=\"text-align: right;\">\n      <th></th>\n      <th>Customer_ID</th>\n      <th>Age</th>\n      <th>Sex</th>\n      <th>Marital_Status</th>\n      <th>Education</th>\n      <th>Income</th>\n      <th>Customer_Rating</th>\n      <th>Persons_in_Household</th>\n      <th>Occupation</th>\n      <th>Groceries</th>\n    </tr>\n  </thead>\n  <tbody>\n    <tr>\n      <th>72</th>\n      <td>73</td>\n      <td>78.0</td>\n      <td>female</td>\n      <td>divorced</td>\n      <td>2</td>\n      <td>32000.0</td>\n      <td>3</td>\n      <td>2</td>\n      <td>retired</td>\n      <td>frankfurter,citrus fruit,whole milk,domestic e...</td>\n    </tr>\n    <tr>\n      <th>562</th>\n      <td>563</td>\n      <td>22.0</td>\n      <td>female</td>\n      <td>married</td>\n      <td>2</td>\n      <td>38000.0</td>\n      <td>2</td>\n      <td>2</td>\n      <td>housemaid</td>\n      <td>whole milk</td>\n    </tr>\n    <tr>\n      <th>1602</th>\n      <td>1603</td>\n      <td>24.0</td>\n      <td>male</td>\n      <td>single</td>\n      <td>0</td>\n      <td>40000.0</td>\n      <td>1</td>\n      <td>2</td>\n      <td>self-employed</td>\n      <td>other vegetables,rolls/buns,canned fish</td>\n    </tr>\n    <tr>\n      <th>2199</th>\n      <td>2200</td>\n      <td>24.0</td>\n      <td>male</td>\n      <td>divorced</td>\n      <td>0</td>\n      <td>32000.0</td>\n      <td>1</td>\n      <td>1</td>\n      <td>unknown</td>\n      <td>rolls/buns,tea</td>\n    </tr>\n    <tr>\n      <th>3702</th>\n      <td>3703</td>\n      <td>70.0</td>\n      <td>female</td>\n      <td>single</td>\n      <td>1</td>\n      <td>33000.0</td>\n      <td>4</td>\n      <td>2</td>\n      <td>retired</td>\n      <td>citrus fruit,frozen vegetables,domestic eggs,b...</td>\n    </tr>\n  </tbody>\n</table>\n</div>"
     },
     "metadata": {},
     "execution_count": 189
    }
   ],
   "source": [
    "pickedCustomers = cData.loc[cData[\"Customer_ID\"].isin([73, 563, 1603, 2200, 3703, 4263, 5300, 6129, 7800, 8555])]\n",
    "pickedCustomers.head(5)"
   ]
  },
  {
   "cell_type": "code",
   "execution_count": 288,
   "metadata": {},
   "outputs": [
    {
     "output_type": "stream",
     "name": "stdout",
     "text": [
      "\tCustomer ID: 73\n",
      "   Customer_ID  Similarity Score\n",
      "0         1846          0.887203\n",
      "1         1291          0.878961\n",
      "2         1203          0.863634\n",
      "3         3953          0.853480\n",
      "4         6904          0.850184\n",
      "5         5922          0.849465\n",
      "6         8881          0.846340\n",
      "7         3623          0.844805\n",
      "8         4488          0.839961\n",
      "9         7933          0.839380 \n",
      "\n",
      "\n",
      "\tCustomer ID: 563\n",
      "   Customer_ID  Similarity Score\n",
      "0         3634          0.947187\n",
      "1         6168          0.895594\n",
      "2         1564          0.873134\n",
      "3         4290          0.871226\n",
      "4         2839          0.866726\n",
      "5         4433          0.866393\n",
      "6         9234          0.860017\n",
      "7         6196          0.859902\n",
      "8         6205          0.858221\n",
      "9         3391          0.858209 \n",
      "\n",
      "\n",
      "\tCustomer ID: 1603\n",
      "   Customer_ID  Similarity Score\n",
      "0          568          0.853161\n",
      "1          109          0.852497\n",
      "2         7345          0.852440\n",
      "3         6751          0.844381\n",
      "4         7335          0.842541\n",
      "5         6841          0.836711\n",
      "6         8959          0.834364\n",
      "7         4814          0.826902\n",
      "8         2774          0.823170\n",
      "9         9026          0.819381 \n",
      "\n",
      "\n",
      "\tCustomer ID: 2200\n",
      "   Customer_ID  Similarity Score\n",
      "0          403          0.837863\n",
      "1         7497          0.823113\n",
      "2         8884          0.817929\n",
      "3         6722          0.790055\n",
      "4         5160          0.789538\n",
      "5          203          0.784147\n",
      "6         3551          0.780920\n",
      "7         5330          0.779384\n",
      "8         4928          0.764825\n",
      "9         7958          0.761357 \n",
      "\n",
      "\n",
      "\tCustomer ID: 3703\n",
      "   Customer_ID  Similarity Score\n",
      "0         1604          0.875962\n",
      "1         3352          0.869346\n",
      "2         9942          0.864755\n",
      "3         1837          0.862742\n",
      "4         3990          0.861894\n",
      "5         7194          0.861825\n",
      "6         7784          0.861653\n",
      "7         6793          0.859960\n",
      "8         4373          0.859902\n",
      "9         6587          0.859043 \n",
      "\n",
      "\n",
      "\tCustomer ID: 4263\n",
      "   Customer_ID  Similarity Score\n",
      "0         9536          0.866175\n",
      "1         5829          0.847013\n",
      "2         6183          0.844288\n",
      "3         4990          0.844277\n",
      "4         5427          0.842537\n",
      "5         9051          0.838889\n",
      "6         2195          0.838875\n",
      "7         6605          0.821589\n",
      "8         2832          0.821190\n",
      "9         3822          0.820845 \n",
      "\n",
      "\n",
      "\tCustomer ID: 5300\n",
      "   Customer_ID  Similarity Score\n",
      "0         8497          0.858373\n",
      "1         8982          0.856803\n",
      "2         8711          0.855920\n",
      "3         2110          0.852842\n",
      "4         7542          0.850579\n",
      "5         7457          0.848623\n",
      "6         3533          0.847763\n",
      "7          339          0.846785\n",
      "8         3470          0.845316\n",
      "9         8068          0.844551 \n",
      "\n",
      "\n",
      "\tCustomer ID: 6129\n",
      "   Customer_ID  Similarity Score\n",
      "0         6303          0.887306\n",
      "1         2029          0.880530\n",
      "2         1082          0.876641\n",
      "3         5680          0.873125\n",
      "4         1322          0.863634\n",
      "5         3733          0.863576\n",
      "6         1478          0.862490\n",
      "7         7574          0.862009\n",
      "8         1752          0.860017\n",
      "9          980          0.859673 \n",
      "\n",
      "\n",
      "\tCustomer ID: 7800\n",
      "   Customer_ID  Similarity Score\n",
      "0         2126          0.867365\n",
      "1          186          0.863634\n",
      "2         2342          0.843339\n",
      "3         7470          0.837400\n",
      "4         8293          0.825402\n",
      "5         9116          0.813618\n",
      "6         4995          0.808187\n",
      "7          673          0.803226\n",
      "8         2237          0.798113\n",
      "9         1251          0.795365 \n",
      "\n",
      "\n",
      "\tCustomer ID: 8555\n",
      "   Customer_ID  Similarity Score\n",
      "0         3320          0.869288\n",
      "1         3894          0.865614\n",
      "2         9336          0.865614\n",
      "3         5140          0.863450\n",
      "4         1486          0.861596\n",
      "5         6092          0.859673\n",
      "6         2458          0.857979\n",
      "7           40          0.856171\n",
      "8         5211          0.856171\n",
      "9         6386          0.852497 \n",
      "\n",
      "\n"
     ]
    }
   ],
   "source": [
    "# To run for the entire Customer set, just change the dataset \n",
    "dfToRun = cData # --> cData\n",
    "for id in pickedCustomers[\"Customer_ID\"]:\n",
    "    scores = pd.DataFrame(calcSimForOne(id, dfToRun, 10), columns = [\"Customer_ID\", \"Similarity Score\"])\n",
    "    print(\"\\tCustomer ID:\", id)\n",
    "    print(scores,\"\\n\\n\")\n"
   ]
  },
  {
   "source": [
    "### Customer rating prediction\n",
    "#### Customer classification to predict customer rating quality "
   ],
   "cell_type": "markdown",
   "metadata": {}
  },
  {
   "source": [
    "Re-write the business logic functions"
   ],
   "cell_type": "markdown",
   "metadata": {}
  },
  {
   "cell_type": "code",
   "execution_count": 305,
   "metadata": {},
   "outputs": [],
   "source": [
    "def calcSimilarityNoRating(cust1, cust2): \n",
    "    # For categoricals\n",
    "    sexDis = 0\n",
    "    marDis = 0\n",
    "    occDis = 0\n",
    "    if(cust1[\"Sex\"] != cust2[\"Sex\"]):\n",
    "        sexDis = 1\n",
    "    if(cust1[\"Marital_Status\"] != cust2[\"Marital_Status\"]):\n",
    "        marDis = 1\n",
    "    if(cust1[\"Occupation\"] != cust2[\"Occupation\"]):\n",
    "        occDis = 1\n",
    "    \n",
    "    # For ordinal vars\n",
    "    eduDis = abs(cust1[\"Education\"] - cust2[\"Education\"]) / (eduMax - eduMin)\n",
    "\n",
    "    # For numerical vars\n",
    "    ageDis = abs(cust1[\"Age\"] - cust2[\"Age\"]) / (ageMax - ageMin)\n",
    "    incDis = abs(cust1[\"Income\"] - cust2[\"Income\"])/ (incMax - incMin)\n",
    "\n",
    "    # For set dist\n",
    "    grocDis = 1 - jaccard_sim(cust1[\"Groceries\"].split(\",\"), cust2[\"Groceries\"].split(\",\"))\n",
    "\n",
    "    return (1-((sexDis + marDis + occDis + eduDis + ageDis + incDis + grocDis)/7))\n"
   ]
  },
  {
   "cell_type": "code",
   "execution_count": 361,
   "metadata": {},
   "outputs": [],
   "source": [
    "def calcSim10ForOne(cust, df):\n",
    "    result = []\n",
    "    runDf = df.loc[df[\"Customer_ID\"]!=cust[\"Customer_ID\"]]\n",
    "    for i in range(0, len(runDf)):\n",
    "        compCust = runDf.iloc[i]\n",
    "        result.append([compCust[\"Customer_ID\"], compCust[\"Customer_Rating\"], calcSimilarityNoRating(cust,compCust)])\n",
    "\n",
    "    # Sort the results by desc. similarity\n",
    "    return sorted(result, key=lambda x: x[2], reverse=True)[0:10]\n",
    "    # return sorted(result, key=lambda x: x[1], reverse=True)[0:10]"
   ]
  },
  {
   "cell_type": "code",
   "execution_count": 365,
   "metadata": {},
   "outputs": [],
   "source": [
    "def calcRating(cust, df, weighted=False):\n",
    "    simArray = calcSim10ForOne(cust, df)\n",
    "    total=0\n",
    "    if weighted==False:\n",
    "        for i in range(0, len(simArray)):\n",
    "            total += simArray[i][1]\n",
    "        total = total / len(simArray)\n",
    "    else:\n",
    "        simTotal = 0\n",
    "        for i in range(0, len(simArray)):\n",
    "            total += simArray[i][2] * simArray[i][1]\n",
    "            simTotal += simArray[i][2]\n",
    "        total = total / simTotal\n",
    "    return int(round(total))"
   ]
  },
  {
   "source": [
    "### Average rating"
   ],
   "cell_type": "markdown",
   "metadata": {}
  },
  {
   "source": [
    "#### Average rating Error"
   ],
   "cell_type": "markdown",
   "metadata": {}
  },
  {
   "cell_type": "code",
   "execution_count": 370,
   "metadata": {},
   "outputs": [
    {
     "output_type": "execute_result",
     "data": {
      "text/plain": [
       "1"
      ]
     },
     "metadata": {},
     "execution_count": 370
    }
   ],
   "source": [
    "abs(calcRating(cData.iloc[0], cData) - cData.iloc[0][\"Customer_Rating\"])"
   ]
  },
  {
   "cell_type": "code",
   "execution_count": 375,
   "metadata": {},
   "outputs": [
    {
     "output_type": "stream",
     "name": "stdout",
     "text": [
      "Total AverageRatingAlgo error:  0.4\n"
     ]
    }
   ],
   "source": [
    "totalAverageRatingError = 0\n",
    "for i in range(0, 50):\n",
    "    totalAverageRatingError += abs(calcRating(cData.iloc[i], cData) - cData.iloc[i][\"Customer_Rating\"])\n",
    "print(\"Total AverageRatingAlgo error: \", (totalAverageRatingError/50))"
   ]
  },
  {
   "source": [
    "### Weighted average rating"
   ],
   "cell_type": "markdown",
   "metadata": {}
  },
  {
   "cell_type": "code",
   "execution_count": 367,
   "metadata": {},
   "outputs": [
    {
     "output_type": "execute_result",
     "data": {
      "text/plain": [
       "2"
      ]
     },
     "metadata": {},
     "execution_count": 367
    }
   ],
   "source": [
    "calcRating(cData.iloc[27], cData, True)"
   ]
  },
  {
   "source": [
    "#### Weighted Average rating Error"
   ],
   "cell_type": "markdown",
   "metadata": {}
  },
  {
   "cell_type": "code",
   "execution_count": null,
   "metadata": {},
   "outputs": [],
   "source": [
    "totalAverageRatingError = 0\n",
    "for i in range(0, 50):\n",
    "    totalAverageRatingError += abs(calcRating(cData.iloc[i], cData, True) - cData.iloc[i][\"Customer_Rating\"])\n",
    "print(\"Total Weighted AverageRatingAlgo error: \", (totalAverageRatingError/50))"
   ]
  }
 ]
}