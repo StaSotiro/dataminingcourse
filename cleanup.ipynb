{
 "metadata": {
  "language_info": {
   "codemirror_mode": {
    "name": "ipython",
    "version": 3
   },
   "file_extension": ".py",
   "mimetype": "text/x-python",
   "name": "python",
   "nbconvert_exporter": "python",
   "pygments_lexer": "ipython3",
   "version": "3.7.4"
  },
  "orig_nbformat": 4,
  "kernelspec": {
   "name": "python3",
   "display_name": "Python 3.7.4 64-bit ('base': conda)"
  },
  "interpreter": {
   "hash": "023866bcb11fbd497308e527800e6910e0a2b0ed4577baff85e6b7650bb798d8"
  }
 },
 "nbformat": 4,
 "nbformat_minor": 2,
 "cells": [
  {
   "cell_type": "code",
   "execution_count": 2,
   "metadata": {},
   "outputs": [],
   "source": [
    "import pandas as pd"
   ]
  },
  {
   "cell_type": "code",
   "execution_count": 4,
   "metadata": {},
   "outputs": [
    {
     "output_type": "stream",
     "name": "stdout",
     "text": [
      "(58340, 2)\n"
     ]
    },
    {
     "output_type": "execute_result",
     "data": {
      "text/plain": [
       "           art              name\n",
       "23506  9210113      C. P. Martin\n",
       "36875  9512207        Bokai Yang\n",
       "56417  9909067   Gavin Johnstone\n",
       "49142  9805048        Nick Evans\n",
       "50164  9807081  A. Gangopadhyaya"
      ],
      "text/html": "<div>\n<style scoped>\n    .dataframe tbody tr th:only-of-type {\n        vertical-align: middle;\n    }\n\n    .dataframe tbody tr th {\n        vertical-align: top;\n    }\n\n    .dataframe thead th {\n        text-align: right;\n    }\n</style>\n<table border=\"1\" class=\"dataframe\">\n  <thead>\n    <tr style=\"text-align: right;\">\n      <th></th>\n      <th>art</th>\n      <th>name</th>\n    </tr>\n  </thead>\n  <tbody>\n    <tr>\n      <th>23506</th>\n      <td>9210113</td>\n      <td>C. P. Martin</td>\n    </tr>\n    <tr>\n      <th>36875</th>\n      <td>9512207</td>\n      <td>Bokai Yang</td>\n    </tr>\n    <tr>\n      <th>56417</th>\n      <td>9909067</td>\n      <td>Gavin Johnstone</td>\n    </tr>\n    <tr>\n      <th>49142</th>\n      <td>9805048</td>\n      <td>Nick Evans</td>\n    </tr>\n    <tr>\n      <th>50164</th>\n      <td>9807081</td>\n      <td>A. Gangopadhyaya</td>\n    </tr>\n  </tbody>\n</table>\n</div>"
     },
     "metadata": {},
     "execution_count": 4
    }
   ],
   "source": [
    "\n",
    "allData = pd.read_csv(\"./Citation Dataset/AuthorNodes.csv\", sep=\",\", names=[\"art\",\"name\"])\n",
    "print(allData.shape)\n",
    "allData.sample(5)"
   ]
  },
  {
   "cell_type": "code",
   "execution_count": 6,
   "metadata": {},
   "outputs": [],
   "source": [
    "unique = allData.name.unique()"
   ]
  },
  {
   "cell_type": "code",
   "execution_count": 8,
   "metadata": {},
   "outputs": [],
   "source": [
    "pd.DataFrame(unique).to_csv(\"./Citation Dataset/Authors.csv\", header=False, index=False)"
   ]
  },
  {
   "cell_type": "code",
   "execution_count": null,
   "metadata": {},
   "outputs": [],
   "source": []
  }
 ]
}